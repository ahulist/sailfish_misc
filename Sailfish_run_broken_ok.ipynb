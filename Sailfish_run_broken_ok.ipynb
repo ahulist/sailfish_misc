{
 "cells": [
  {
   "cell_type": "code",
   "execution_count": 29,
   "metadata": {
    "collapsed": true
   },
   "outputs": [],
   "source": [
    "%matplotlib inline\n",
    "import matplotlib.pyplot as plt\n",
    "import numpy as np\n",
    "import sys,os,glob\n",
    "sys.path.append('./sailfish/')\n",
    "if not (os.path.isdir('data') or os.path.islink('data')):\n",
    "    os.mkdir('data')\n"
   ]
  },
  {
   "cell_type": "code",
   "execution_count": 30,
   "metadata": {
    "collapsed": false
   },
   "outputs": [
    {
     "name": "stdout",
     "output_type": "stream",
     "text": [
      "Overwriting from_geo.py\n"
     ]
    }
   ],
   "source": [
    "%%writefile from_geo.py\n",
    "import numpy as np\n",
    "from sailfish.subdomain import Subdomain2D\n",
    "from sailfish.node_type import NTHalfBBWall, NTEquilibriumVelocity,NTGuoDensity, NTEquilibriumDensity, NTRegularizedDensity,DynamicValue, NTFullBBWall\n",
    "from sailfish.controller import LBSimulationController\n",
    "from sailfish.lb_single import LBFluidSim, LBForcedSim\n",
    "from sailfish.sym import S\n",
    "\n",
    "from sympy import sin, Piecewise\n",
    "\n",
    "class MyBlock(Subdomain2D):\n",
    "    max_v = 0.025\n",
    "    \n",
    "    def boundary_conditions(self, hx, hy):\n",
    "        if hasattr(self.config, '_geo_map'):\n",
    "            rampup_time = 5000\n",
    "            wall_map = self.config._geo_map == 0\n",
    "           \n",
    "            partial_wall_map = self.select_subdomain(\n",
    "                wall_map, hx, hy)\n",
    "            \n",
    "            radius = self.config._D / 2.0\n",
    "            radius_sq = radius**2\n",
    "            vv =  self.max_v * (1.0 -  (S.gy + 0.5 - radius)**2 / radius_sq)* \\\n",
    "                        Piecewise((S.time / rampup_time, S.time < rampup_time),(1.0, True))\n",
    "            \n",
    "            \n",
    "            self.set_node((~wall_map) & (hx == 0), NTEquilibriumVelocity(DynamicValue(vv,0.0)))\n",
    "            \n",
    "            \n",
    "            self.set_node(partial_wall_map, NTFullBBWall)\n",
    "            self.set_node((~wall_map) & (hx == self.gx), NTEquilibriumDensity(1.0))\n",
    "            \n",
    "\n",
    "        \n",
    "        # Only used with node_addressing = 'indirect'.\n",
    "    def load_active_node_map(self, hx, hy):\n",
    "        partial_wall_map = self.select_subdomain(\n",
    "            self.config._wall_map, hx, hy)\n",
    "        self.set_active_node_map_from_wall_map(partial_wall_map)\n",
    "        \n",
    "        \n",
    "    \n",
    "        \n",
    "    def initial_conditions(self, sim, hx, hy):\n",
    "        sim.rho[:] = 1.0 \n",
    "        #sim.vy[:] = 0.0\n",
    "        #hhy = hy - NTFullBBWall.location\n",
    "        #sim.vx[:] = 4.0 * self.max_v / self.gy**2 * hhy * (self.gy - hhy)\n",
    "        \n",
    "        sim.vx[:] = 0.0\n",
    "        sim.vy[:] = 0.0\n",
    "\n",
    "class MySim(LBFluidSim):\n",
    "    \n",
    "    subdomain = MyBlock\n",
    "\n",
    "\n",
    "    @classmethod\n",
    "    def add_options(cls, group, dim):\n",
    "        group.add_argument('--geometry', type=str, default='')   \n",
    "        \n",
    "        \n",
    "    @classmethod\n",
    "    def modify_config(cls, config):\n",
    "        if not config.geometry:\n",
    "            return\n",
    "\n",
    "        # Override lattice size based on the geometry file.\n",
    "        data = np.load(config.geometry)  \n",
    "        config.lat_ny, config.lat_nx = data['geo'].shape\n",
    "        # Add nodes corresponding to ghosts. Assumes an envelope size of 1.\n",
    "        geo_map = data['geo']\n",
    "        geo_map = np.pad(geo_map, (1, 1), 'constant', constant_values=0)\n",
    "        config._geo_map = geo_map\n",
    "        config._D = data['D']\n",
    "        config._L = data['L']\n",
    "        \n",
    "    def __init__(self, config):\n",
    "        super(MySim, self).__init__(config)\n",
    "\n",
    "#G = np.load(\"Geo01.npz\")\n",
    "#NX,NY = G['geo'].shape\n",
    "LBSimulationController(MySim).run()"
   ]
  },
  {
   "cell_type": "code",
   "execution_count": null,
   "metadata": {
    "collapsed": false
   },
   "outputs": [],
   "source": []
  },
  {
   "cell_type": "code",
   "execution_count": 31,
   "metadata": {
    "collapsed": false,
    "scrolled": true
   },
   "outputs": [
    {
     "name": "stderr",
     "output_type": "stream",
     "text": [
      "[   951  INFO Master/gpu2.smcebi.us.edu.pl] Machine master starting with PID 24821 at 2017-11-28 11:58:52 UTC\n",
      "[   952  INFO Master/gpu2.smcebi.us.edu.pl] Simulation started with: from_geo.py --max_iters=100000 --from=0 --every=10000 --visc=0.1 --output=data/broken_pipe/from_geo --output_format=npy --geometry=broken_pipe_2d_geometry.npz --gpu=1\n",
      "[   967  INFO Master/gpu2.smcebi.us.edu.pl] Sailfish version: 98ec98ed0e406378e5a31c3886a6d2937e71848f\n",
      "[   967  INFO Master/gpu2.smcebi.us.edu.pl] Handling subdomains: [0]\n",
      "[   967  INFO Master/gpu2.smcebi.us.edu.pl] Subdomain -> GPU map: {0: 1}\n",
      "[   968  INFO Master/gpu2.smcebi.us.edu.pl] Selected backend: cuda\n",
      "[   973  INFO Subdomain/0] SubdomainRunner starting with PID 24826\n",
      "[  2347  INFO Subdomain/0] Initializing subdomain.\n",
      "[  2348  INFO Subdomain/0] Relaxation model: bgk\n",
      "[  2349  INFO Subdomain/0] Actual lattice size is: [1223, 405]\n",
      "[  2350  INFO Subdomain/0] Required memory: \n",
      "[  2350  INFO Subdomain/0] . distributions: 34 MiB\n",
      "[  2350  INFO Subdomain/0] . fields: 5 MiB\n",
      "[  2610  INFO Subdomain/0] Fluid node fraction: 13.1%\n",
      "[  4680  INFO Subdomain/0] Starting simulation.\n",
      "[  4950  INFO Subdomain/0] iteration:2000  speed:485.12 MLUPS\n",
      "[  5056  INFO Subdomain/0] iteration:3000  speed:608.47 MLUPS\n",
      "[  5153  INFO Subdomain/0] iteration:4000  speed:660.26 MLUPS\n",
      "[  5251  INFO Subdomain/0] iteration:5000  speed:659.47 MLUPS\n",
      "[  5352  INFO Subdomain/0] iteration:6000  speed:639.39 MLUPS\n",
      "[  5450  INFO Subdomain/0] iteration:7000  speed:651.81 MLUPS\n",
      "[  5548  INFO Subdomain/0] iteration:8000  speed:658.05 MLUPS\n",
      "[  5646  INFO Subdomain/0] iteration:9000  speed:658.27 MLUPS\n",
      "[  5744  INFO Subdomain/0] iteration:10000  speed:657.78 MLUPS\n",
      "[  5849  INFO Subdomain/0] iteration:11000  speed:611.20 MLUPS\n",
      "[  5951  INFO Subdomain/0] iteration:12000  speed:629.01 MLUPS\n",
      "[  6051  INFO Subdomain/0] iteration:13000  speed:644.23 MLUPS\n",
      "[  6150  INFO Subdomain/0] iteration:14000  speed:652.42 MLUPS\n",
      "[  6248  INFO Subdomain/0] iteration:15000  speed:658.47 MLUPS\n",
      "[  6346  INFO Subdomain/0] iteration:16000  speed:656.91 MLUPS\n",
      "[  6445  INFO Subdomain/0] iteration:17000  speed:649.50 MLUPS\n",
      "[  6543  INFO Subdomain/0] iteration:18000  speed:656.67 MLUPS\n",
      "[  6641  INFO Subdomain/0] iteration:19000  speed:656.59 MLUPS\n",
      "[  6739  INFO Subdomain/0] iteration:20000  speed:657.06 MLUPS\n",
      "[  6845  INFO Subdomain/0] iteration:21000  speed:608.94 MLUPS\n",
      "[  6967  INFO Subdomain/0] iteration:22000  speed:525.88 MLUPS\n",
      "[  7084  INFO Subdomain/0] iteration:23000  speed:551.03 MLUPS\n",
      "[  7182  INFO Subdomain/0] iteration:24000  speed:653.51 MLUPS\n",
      "[  7279  INFO Subdomain/0] iteration:25000  speed:665.27 MLUPS\n",
      "[  7376  INFO Subdomain/0] iteration:26000  speed:665.07 MLUPS\n",
      "[  7473  INFO Subdomain/0] iteration:27000  speed:665.28 MLUPS\n",
      "[  7569  INFO Subdomain/0] iteration:28000  speed:666.12 MLUPS\n",
      "[  7666  INFO Subdomain/0] iteration:29000  speed:665.75 MLUPS\n",
      "[  7763  INFO Subdomain/0] iteration:30000  speed:665.37 MLUPS\n",
      "[  7899  INFO Subdomain/0] iteration:31000  speed:472.36 MLUPS\n",
      "[  8004  INFO Subdomain/0] iteration:32000  speed:610.33 MLUPS\n",
      "[  8104  INFO Subdomain/0] iteration:33000  speed:648.49 MLUPS\n",
      "[  8201  INFO Subdomain/0] iteration:34000  speed:661.92 MLUPS\n",
      "[  8298  INFO Subdomain/0] iteration:35000  speed:662.54 MLUPS\n",
      "[  8414  INFO Subdomain/0] iteration:36000  speed:552.21 MLUPS\n",
      "[  8524  INFO Subdomain/0] iteration:37000  speed:589.89 MLUPS\n",
      "[  8621  INFO Subdomain/0] iteration:38000  speed:661.01 MLUPS\n",
      "[  8718  INFO Subdomain/0] iteration:39000  speed:664.59 MLUPS\n",
      "[  8815  INFO Subdomain/0] iteration:40000  speed:663.43 MLUPS\n",
      "[  8949  INFO Subdomain/0] iteration:41000  speed:479.97 MLUPS\n",
      "[  9055  INFO Subdomain/0] iteration:42000  speed:609.63 MLUPS\n",
      "[  9156  INFO Subdomain/0] iteration:43000  speed:636.67 MLUPS\n",
      "[  9253  INFO Subdomain/0] iteration:44000  speed:660.45 MLUPS\n",
      "[  9350  INFO Subdomain/0] iteration:45000  speed:661.49 MLUPS\n",
      "[  9448  INFO Subdomain/0] iteration:46000  speed:661.87 MLUPS\n",
      "[  9545  INFO Subdomain/0] iteration:47000  speed:661.90 MLUPS\n",
      "[  9642  INFO Subdomain/0] iteration:48000  speed:661.65 MLUPS\n",
      "[  9739  INFO Subdomain/0] iteration:49000  speed:661.92 MLUPS\n",
      "[  9837  INFO Subdomain/0] iteration:50000  speed:662.02 MLUPS\n",
      "[  9941  INFO Subdomain/0] iteration:51000  speed:616.42 MLUPS\n",
      "[ 10043  INFO Subdomain/0] iteration:52000  speed:631.81 MLUPS\n",
      "[ 10143  INFO Subdomain/0] iteration:53000  speed:644.67 MLUPS\n",
      "[ 10242  INFO Subdomain/0] iteration:54000  speed:649.48 MLUPS\n",
      "[ 10339  INFO Subdomain/0] iteration:55000  speed:659.28 MLUPS\n",
      "[ 10437  INFO Subdomain/0] iteration:56000  speed:658.94 MLUPS\n",
      "[ 10535  INFO Subdomain/0] iteration:57000  speed:659.27 MLUPS\n",
      "[ 10632  INFO Subdomain/0] iteration:58000  speed:659.19 MLUPS\n",
      "[ 10730  INFO Subdomain/0] iteration:59000  speed:659.89 MLUPS\n",
      "[ 10828  INFO Subdomain/0] iteration:60000  speed:658.91 MLUPS\n",
      "[ 10932  INFO Subdomain/0] iteration:61000  speed:619.04 MLUPS\n",
      "[ 11052  INFO Subdomain/0] iteration:62000  speed:533.16 MLUPS\n",
      "[ 11170  INFO Subdomain/0] iteration:63000  speed:547.66 MLUPS\n",
      "[ 11294  INFO Subdomain/0] iteration:64000  speed:518.69 MLUPS\n",
      "[ 11399  INFO Subdomain/0] iteration:65000  speed:610.86 MLUPS\n",
      "[ 11499  INFO Subdomain/0] iteration:66000  speed:647.00 MLUPS\n",
      "[ 11598  INFO Subdomain/0] iteration:67000  speed:647.78 MLUPS\n",
      "[ 11697  INFO Subdomain/0] iteration:68000  speed:647.19 MLUPS\n",
      "[ 11796  INFO Subdomain/0] iteration:69000  speed:656.20 MLUPS\n",
      "[ 11894  INFO Subdomain/0] iteration:70000  speed:656.12 MLUPS\n",
      "[ 12000  INFO Subdomain/0] iteration:71000  speed:606.58 MLUPS\n",
      "[ 12124  INFO Subdomain/0] iteration:72000  speed:516.72 MLUPS\n",
      "[ 12239  INFO Subdomain/0] iteration:73000  speed:560.22 MLUPS\n",
      "[ 12339  INFO Subdomain/0] iteration:74000  speed:645.19 MLUPS\n",
      "[ 12437  INFO Subdomain/0] iteration:75000  speed:654.46 MLUPS\n",
      "[ 12537  INFO Subdomain/0] iteration:76000  speed:643.57 MLUPS\n",
      "[ 12635  INFO Subdomain/0] iteration:77000  speed:656.03 MLUPS\n",
      "[ 12733  INFO Subdomain/0] iteration:78000  speed:656.61 MLUPS\n",
      "[ 12831  INFO Subdomain/0] iteration:79000  speed:656.98 MLUPS\n",
      "[ 12929  INFO Subdomain/0] iteration:80000  speed:656.97 MLUPS\n",
      "[ 13034  INFO Subdomain/0] iteration:81000  speed:617.18 MLUPS\n",
      "[ 13136  INFO Subdomain/0] iteration:82000  speed:629.79 MLUPS\n",
      "[ 13268  INFO Subdomain/0] iteration:83000  speed:489.03 MLUPS\n",
      "[ 13369  INFO Subdomain/0] iteration:84000  speed:635.47 MLUPS\n",
      "[ 13466  INFO Subdomain/0] iteration:85000  speed:665.06 MLUPS\n",
      "[ 13562  INFO Subdomain/0] iteration:86000  speed:665.90 MLUPS\n",
      "[ 13659  INFO Subdomain/0] iteration:87000  speed:665.54 MLUPS\n",
      "[ 13756  INFO Subdomain/0] iteration:88000  speed:665.98 MLUPS\n",
      "[ 13852  INFO Subdomain/0] iteration:89000  speed:665.68 MLUPS\n",
      "[ 13949  INFO Subdomain/0] iteration:90000  speed:663.52 MLUPS\n",
      "[ 14089  INFO Subdomain/0] iteration:91000  speed:462.04 MLUPS\n",
      "[ 14194  INFO Subdomain/0] iteration:92000  speed:609.27 MLUPS\n",
      "[ 14295  INFO Subdomain/0] iteration:93000  speed:637.36 MLUPS\n",
      "[ 14393  INFO Subdomain/0] iteration:94000  speed:655.38 MLUPS\n",
      "[ 14491  INFO Subdomain/0] iteration:95000  speed:656.35 MLUPS\n",
      "[ 14589  INFO Subdomain/0] iteration:96000  speed:656.97 MLUPS\n",
      "[ 14688  INFO Subdomain/0] iteration:97000  speed:655.89 MLUPS\n",
      "[ 14786  INFO Subdomain/0] iteration:98000  speed:657.04 MLUPS\n",
      "[ 14884  INFO Subdomain/0] iteration:99000  speed:656.17 MLUPS\n",
      "[ 14982  INFO Subdomain/0] iteration:100000  speed:656.00 MLUPS\n",
      "[ 15290  INFO Subdomain/0] Simulation completed after 100000 iterations.\n"
     ]
    }
   ],
   "source": [
    "%%bash\n",
    "source activate py27\n",
    "#rm data/from_geo*.npz\n",
    "dir=$PWD\n",
    "#parentdir=\"$(dirname \"$dir\")\"\n",
    "export PYTHONPATH=$dir/sailfish_team/\n",
    "python2 from_geo.py --max_iters=100000 --from=0 --every=10000 \\\n",
    "  --visc=0.1 \\\n",
    " --output=\"data/broken_pipe/from_geo\" --output_format=npy --geometry=\"broken_pipe_2d_geometry.npz\" --gpu=1 "
   ]
  },
  {
   "cell_type": "code",
   "execution_count": 32,
   "metadata": {
    "collapsed": false
   },
   "outputs": [],
   "source": [
    "result = np.load(\"data/broken_pipe/from_geo.0.100000.npz\")"
   ]
  },
  {
   "cell_type": "code",
   "execution_count": 33,
   "metadata": {
    "collapsed": false
   },
   "outputs": [
    {
     "data": {
      "text/plain": [
       "<matplotlib.image.AxesImage at 0x7fdf97adcf90>"
      ]
     },
     "execution_count": 33,
     "metadata": {},
     "output_type": "execute_result"
    },
    {
     "data": {
      "image/png": "[encoded data removed]",
      "text/plain": [
       "<matplotlib.figure.Figure at 0x7fdf9c17e850>"
      ]
     },
     "metadata": {},
     "output_type": "display_data"
    }
   ],
   "source": [
    "vx = result['v'][0]#[:15,:15]\n",
    "vy = result['v'][1]#[:15,:15]\n",
    "rho = result['rho']#[:15,:]\n",
    "\n",
    "f, ((ax1, ax2), (ax3, ax4)) = plt.subplots(2, 2)\n",
    "ax1.imshow((vx**2+vy**2)**0.5,origin='lower',interpolation='nearest')\n",
    "#ax1.set_title('Sharing x per column, y per row')\n",
    "ax2.imshow(rho,origin='lower',interpolation='nearest')\n",
    "ax3.imshow(geo_map[:15,:],origin='lower',interpolation='nearest')\n",
    "#ax4.plot(x, 2 * y ** 2 - 1, color='r')\n",
    "\n",
    "\n",
    "\n",
    "\n",
    "\n",
    "#plt.imshow((vx**2+vy**2)**0.5,origin='lower',interpolation='nearest')\n",
    "#plt.imshow(rho,origin='lower',interpolation='nearest')\n",
    "#plt.axis('equal')\n",
    "#plt.grid(color='b', linestyle='-', linewidth=1, alpha = 0.3)\n",
    "#plt.colorbar()"
   ]
  },
  {
   "cell_type": "code",
   "execution_count": 37,
   "metadata": {
    "collapsed": false
   },
   "outputs": [
    {
     "data": {
      "text/plain": [
       "<matplotlib.image.AxesImage at 0x7fdf43e2a750>"
      ]
     },
     "execution_count": 37,
     "metadata": {},
     "output_type": "execute_result"
    },
    {
     "data": {
      "image/png": "[encoded data removed]",
      "text/plain": [
       "<matplotlib.figure.Figure at 0x7fdf971a9a50>"
      ]
     },
     "metadata": {},
     "output_type": "display_data"
    }
   ],
   "source": [
    "plt.imshow((vx[-300:,-300:]**2+vy[-300:,-300:]**2)**0.5,origin='lower',interpolation='nearest')"
   ]
  },
  {
   "cell_type": "code",
   "execution_count": 178,
   "metadata": {
    "collapsed": false
   },
   "outputs": [
    {
     "data": {
      "text/plain": [
       "(517, 55)"
      ]
     },
     "execution_count": 178,
     "metadata": {},
     "output_type": "execute_result"
    }
   ],
   "source": [
    "result['rho'].shape"
   ]
  },
  {
   "cell_type": "code",
   "execution_count": 133,
   "metadata": {
    "collapsed": false
   },
   "outputs": [
    {
     "data": {
      "text/plain": [
       "0.004096"
      ]
     },
     "execution_count": 133,
     "metadata": {},
     "output_type": "execute_result"
    }
   ],
   "source": [
    "0.0040960"
   ]
  },
  {
   "cell_type": "code",
   "execution_count": 153,
   "metadata": {
    "collapsed": false
   },
   "outputs": [
    {
     "data": {
      "text/plain": [
       "[<matplotlib.lines.Line2D at 0x7efc004ce150>]"
      ]
     },
     "execution_count": 153,
     "metadata": {},
     "output_type": "execute_result"
    },
    {
     "data": {
      "image/png": "[encoded data removed]",
      "text/plain": [
       "<matplotlib.figure.Figure at 0x7efc00851d10>"
      ]
     },
     "metadata": {},
     "output_type": "display_data"
    }
   ],
   "source": [
    "plt.plot(result['v'][1][5,:])"
   ]
  },
  {
   "cell_type": "code",
   "execution_count": 156,
   "metadata": {
    "collapsed": false
   },
   "outputs": [
    {
     "data": {
      "text/plain": [
       "0.004096000000000001"
      ]
     },
     "execution_count": 156,
     "metadata": {},
     "output_type": "execute_result"
    }
   ],
   "source": [
    "8*0.025*0.1*512/((50)**2) "
   ]
  },
  {
   "cell_type": "code",
   "execution_count": 259,
   "metadata": {
    "collapsed": false
   },
   "outputs": [
    {
     "data": {
      "text/plain": [
       "(519, 93)"
      ]
     },
     "execution_count": 259,
     "metadata": {},
     "output_type": "execute_result"
    }
   ],
   "source": [
    " result['rho'].shape"
   ]
  },
  {
   "cell_type": "code",
   "execution_count": 7,
   "metadata": {
    "collapsed": true
   },
   "outputs": [],
   "source": [
    "data = np.load(\"broken_pipe_2d_geometry.npz\")  \n",
    "        \n",
    "geo_map = data['geo']\n",
    "geo_map = np.pad(geo_map, (1, 1), 'constant', constant_values=0)\n"
   ]
  },
  {
   "cell_type": "code",
   "execution_count": 263,
   "metadata": {
    "collapsed": false
   },
   "outputs": [
    {
     "data": {
      "text/plain": [
       "array([[        nan,         nan,         nan,         nan,         nan,\n",
       "                nan,         nan,         nan,         nan,         nan,\n",
       "                nan,         nan,         nan,         nan,         nan],\n",
       "       [        nan,         nan,         nan,         nan,         nan,\n",
       "                nan,         nan,         nan,         nan,         nan,\n",
       "                nan,         nan,         nan,         nan,         nan],\n",
       "       [        nan,         nan,         nan,         nan,         nan,\n",
       "                nan,         nan,         nan,         nan,         nan,\n",
       "                nan,         nan,         nan,         nan,         nan],\n",
       "       [        nan,         nan,         nan,         nan,         nan,\n",
       "                nan,         nan,         nan,         nan,         nan,\n",
       "                nan,         nan,         nan,         nan,         nan],\n",
       "       [        nan,         nan,         nan,         nan,         nan,\n",
       "                nan,         nan,         nan,         nan,         nan,\n",
       "                nan,         nan,  0.96599972,  0.96465701,  0.9619993 ],\n",
       "       [        nan,         nan,  0.98208505,  0.98193061,  0.98094368,\n",
       "         0.97954345,  0.97808909,  0.97680813,  0.9758395 ,  0.97521317,\n",
       "         0.97450757,  0.97260511,  0.96750891,  0.96486115,  0.96200716],\n",
       "       [        nan,         nan,  0.98218656,  0.98186618,  0.98080665,\n",
       "         0.97946155,  0.9780882 ,  0.97685015,  0.97584575,  0.97511578,\n",
       "         0.97442329,  0.97347414,  0.96841609,  0.96511841,  0.96185243],\n",
       "       [        nan,         nan,  0.984061  ,  0.98260778,  0.98098773,\n",
       "         0.97942597,  0.977965  ,  0.97667193,  0.97562575,  0.97509629,\n",
       "         0.97546554,  0.98213673,  1.00614405,  1.00614405,  1.00614405],\n",
       "       [        nan,         nan,  1.00614405,  1.00614405,  1.00614405,\n",
       "         1.00614405,  1.00614405,  1.00614405,  1.00614405,  1.00614405,\n",
       "         1.00614405,  1.00614405,  1.00695157,  1.00528002,  1.00570583],\n",
       "       [        nan,         nan,  1.00611985,  1.00599587,  1.00595033,\n",
       "         1.00595164,  1.00595593,  1.00595057,  1.00590241,  1.00528288,\n",
       "         1.00456083,  1.0027808 ,  1.00448883,  1.00588346,  1.00575221],\n",
       "       [        nan,         nan,  1.00586629,  1.0058254 ,  1.00582218,\n",
       "         1.00580764,  1.0057708 ,  1.00568533,  1.00556219,  1.00533652,\n",
       "         1.00424337,  1.00472105,  1.00487387,  1.00532687,  1.005373  ],\n",
       "       [        nan,         nan,  1.00563169,  1.00567174,  1.00568044,\n",
       "         1.00566256,  1.00562406,  1.0055393 ,  1.00534654,  1.00522196,\n",
       "         1.00486422,  1.00506985,  1.00495541,  1.00516355,  1.00534129],\n",
       "       [        nan,         nan,  1.00547028,  1.00553036,  1.00554967,\n",
       "         1.00553942,  1.00549865,  1.00543356,  1.00531471,  1.00518453,\n",
       "         1.00512743,  1.00508368,  1.00511348,  1.00518584,  1.00527644],\n",
       "       [        nan,         nan,  1.00535548,  1.00541639,  1.00544667,\n",
       "         1.00544345,  1.00541079,  1.00535417,  1.00529015,  1.00520313,\n",
       "         1.00518596,  1.00513017,  1.00516868,  1.00518894,  1.00523543],\n",
       "       [        nan,         nan,  1.00527298,  1.00533867,  1.00537395,\n",
       "         1.00537109,  1.00534523,  1.00530291,  1.0052588 ,  1.00521171,\n",
       "         1.00518501,  1.00516486,  1.00517392,  1.00518572,  1.00520885]], dtype=float32)"
      ]
     },
     "execution_count": 263,
     "metadata": {},
     "output_type": "execute_result"
    }
   ],
   "source": [
    "import pprint\n",
    "result['rho'][:15,:15]"
   ]
  },
  {
   "cell_type": "code",
   "execution_count": null,
   "metadata": {
    "collapsed": true
   },
   "outputs": [],
   "source": []
  }
 ],
 "metadata": {
  "kernelspec": {
   "display_name": "Python 2",
   "language": "python",
   "name": "python2"
  },
  "language_info": {
   "codemirror_mode": {
    "name": "ipython",
    "version": 2
   },
   "file_extension": ".py",
   "mimetype": "text/x-python",
   "name": "python",
   "nbconvert_exporter": "python",
   "pygments_lexer": "ipython2",
   "version": "2.7.12"
  }
 },
 "nbformat": 4,
 "nbformat_minor": 2
}
